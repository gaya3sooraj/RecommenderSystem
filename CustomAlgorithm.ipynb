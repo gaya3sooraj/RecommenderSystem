{
 "cells": [
  {
   "cell_type": "markdown",
   "id": "60fe4677",
   "metadata": {},
   "source": [
    "# Building a Custom Algorithm for Recommender Systems\n",
    "AlgoBase in the Surprise library contains all the prediction algorithms like SVD, KNN. Here is more information about [AlgoBase](https://surprise.readthedocs.io/en/stable/algobase.html#surprise.prediction_algorithms.algo_base.AlgoBase). It is quite easy to build our own algorithm using Surprise. In this report we will use a custom algorithm and compare its performance with the in-built SVD algorithm."
   ]
  },
  {
   "cell_type": "code",
   "execution_count": 9,
   "id": "caf0750a",
   "metadata": {},
   "outputs": [],
   "source": [
    "#import required modules\n",
    "from surprise import Reader, Dataset, SVD, NormalPredictor, KNNBasic\n",
    "\n",
    "from collections import defaultdict\n",
    "import numpy as np\n",
    "import random\n",
    "\n",
    "import csv\n",
    "import os\n",
    "import sys\n",
    "\n",
    "sys.path.insert(1,\"../RS\")\n",
    "import RecommenderMetrics, Evaluator\n",
    "from Evaluator import Evaluator\n",
    "from MovieLens import MovieLens\n",
    "\n",
    "np.random.seed(0)\n",
    "random.seed(0)"
   ]
  },
  {
   "cell_type": "markdown",
   "id": "b35682c1",
   "metadata": {},
   "source": [
    "## Database\n",
    "The dataset is called MovieLens and can be found here. MovieLens 25M dataset contains 25 million ratings and one million tag applications applied to 62,000 movies by 162,000 users. "
   ]
  },
  {
   "cell_type": "code",
   "execution_count": 5,
   "id": "5c726438",
   "metadata": {},
   "outputs": [],
   "source": [
    "#import data\n",
    "ml = MovieLens()\n",
    "data = ml.loadMovieLensLatestSmall()\n",
    "#find popularity rank of each movie\n",
    "rankings = ml.getPopularityRanks()"
   ]
  },
  {
   "cell_type": "markdown",
   "id": "cfcdb8cf",
   "metadata": {},
   "source": [
    "## Building Recommenders"
   ]
  },
  {
   "cell_type": "code",
   "execution_count": 6,
   "id": "6232b45e",
   "metadata": {},
   "outputs": [],
   "source": [
    "#Load up common data set for the recommender algorithms\n",
    "(evaluationData, rankings) = (data, rankings)"
   ]
  },
  {
   "cell_type": "code",
   "execution_count": 7,
   "id": "7e717223",
   "metadata": {},
   "outputs": [
    {
     "name": "stdout",
     "output_type": "stream",
     "text": [
      "Estimating biases using als...\n",
      "Computing the cosine similarity matrix...\n",
      "Done computing similarity matrix.\n"
     ]
    }
   ],
   "source": [
    "#Construct an Evaluator \n",
    "evaluator = Evaluator(evaluationData, rankings)"
   ]
  },
  {
   "cell_type": "code",
   "execution_count": 8,
   "id": "716c5e9f",
   "metadata": {},
   "outputs": [],
   "source": [
    "#Add SVD recommender\n",
    "SVDAlgorithm = SVD(random_state=10)\n",
    "evaluator.AddAlgorithm(SVDAlgorithm, \"SVD\")"
   ]
  },
  {
   "cell_type": "code",
   "execution_count": 10,
   "id": "63549ccb",
   "metadata": {},
   "outputs": [],
   "source": [
    "#Add KNNBasic recommender\n",
    "KNNBasicAlgorithm = KNNBasic(random_state=10)\n",
    "evaluator.AddAlgorithm(KNNBasicAlgorithm, \"KNNBasic\")"
   ]
  },
  {
   "cell_type": "code",
   "execution_count": 11,
   "id": "a9326455",
   "metadata": {},
   "outputs": [],
   "source": [
    "#Just make random recommendations\n",
    "Random = NormalPredictor()\n",
    "evaluator.AddAlgorithm(Random, \"Random\")"
   ]
  },
  {
   "cell_type": "code",
   "execution_count": 12,
   "id": "e2302063",
   "metadata": {},
   "outputs": [
    {
     "name": "stdout",
     "output_type": "stream",
     "text": [
      "Evaluating  SVD ...\n",
      "Evaluating accuracy...\n",
      "Evaluating top-N with leave-one-out...\n",
      "Computing hit-rate and rank metrics...\n",
      "Computing recommendations with full data set...\n",
      "Analyzing coverage, diversity, and novelty...\n",
      "Computing the cosine similarity matrix...\n",
      "Done computing similarity matrix.\n",
      "Analysis complete.\n",
      "Evaluating  Random ...\n",
      "Evaluating accuracy...\n",
      "Evaluating top-N with leave-one-out...\n",
      "Computing hit-rate and rank metrics...\n",
      "Computing recommendations with full data set...\n",
      "Analyzing coverage, diversity, and novelty...\n",
      "Computing the cosine similarity matrix...\n",
      "Done computing similarity matrix.\n",
      "Analysis complete.\n",
      "Evaluating  SVD ...\n",
      "Evaluating accuracy...\n",
      "Evaluating top-N with leave-one-out...\n",
      "Computing hit-rate and rank metrics...\n",
      "Computing recommendations with full data set...\n",
      "Analyzing coverage, diversity, and novelty...\n",
      "Computing the cosine similarity matrix...\n",
      "Done computing similarity matrix.\n",
      "Analysis complete.\n",
      "Evaluating  KNNBasic ...\n",
      "Evaluating accuracy...\n",
      "Computing the msd similarity matrix...\n",
      "Done computing similarity matrix.\n",
      "Evaluating top-N with leave-one-out...\n",
      "Computing the msd similarity matrix...\n",
      "Done computing similarity matrix.\n",
      "Computing hit-rate and rank metrics...\n",
      "Computing recommendations with full data set...\n",
      "Computing the msd similarity matrix...\n",
      "Done computing similarity matrix.\n",
      "Analyzing coverage, diversity, and novelty...\n",
      "Computing the cosine similarity matrix...\n",
      "Done computing similarity matrix.\n",
      "Analysis complete.\n",
      "Evaluating  Random ...\n",
      "Evaluating accuracy...\n",
      "Evaluating top-N with leave-one-out...\n",
      "Computing hit-rate and rank metrics...\n",
      "Computing recommendations with full data set...\n",
      "Analyzing coverage, diversity, and novelty...\n",
      "Computing the cosine similarity matrix...\n",
      "Done computing similarity matrix.\n",
      "Analysis complete.\n",
      "\n",
      "\n",
      "Algorithm  RMSE       MAE        HR         cHR        ARHR       Coverage   Diversity  Novelty   \n",
      "SVD        0.9034     0.6978     0.0298     0.0298     0.0112     0.9553     0.0445     491.5768  \n",
      "Random     1.4392     1.1498     0.0194     0.0194     0.0059     1.0000     0.0692     540.6417  \n",
      "KNNBasic   0.9713     0.7487     0.0000     0.0000     0.0000     1.0000     0.8559     5666.0592 \n",
      "\n",
      "Legend:\n",
      "\n",
      "RMSE:      Root Mean Squared Error. Lower values mean better accuracy.\n",
      "MAE:       Mean Absolute Error. Lower values mean better accuracy.\n",
      "HR:        Hit Rate; how often we are able to recommend a left-out rating. Higher is better.\n",
      "cHR:       Cumulative Hit Rate; hit rate, confined to ratings above a certain threshold. Higher is better.\n",
      "ARHR:      Average Reciprocal Hit Rank - Hit rate that takes the ranking into account. Higher is better.\n",
      "Coverage:  Ratio of users for whom recommendations above a certain threshold exist. Higher is better.\n",
      "Diversity: 1-S, where S is the average similarity score between every possible pair of recommendations\n",
      "           for a given user. Higher means more diverse.\n",
      "Novelty:   Average popularity rank of recommended items. Higher means more novel.\n"
     ]
    }
   ],
   "source": [
    "#Evaluate the recommenders\n",
    "evaluator.Evaluate(True)"
   ]
  },
  {
   "cell_type": "markdown",
   "id": "ebfcf939",
   "metadata": {},
   "source": [
    "## Reference\n",
    "\n",
    "https://github.com/PacktPublishing/Building-Recommender-Systems-with-Machine-Learning-and-AI.git"
   ]
  }
 ],
 "metadata": {
  "kernelspec": {
   "display_name": "Python 3 (ipykernel)",
   "language": "python",
   "name": "python3"
  },
  "language_info": {
   "codemirror_mode": {
    "name": "ipython",
    "version": 3
   },
   "file_extension": ".py",
   "mimetype": "text/x-python",
   "name": "python",
   "nbconvert_exporter": "python",
   "pygments_lexer": "ipython3",
   "version": "3.9.13"
  }
 },
 "nbformat": 4,
 "nbformat_minor": 5
}
